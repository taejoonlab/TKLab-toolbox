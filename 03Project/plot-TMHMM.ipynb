{
 "cells": [
  {
   "cell_type": "code",
   "execution_count": 32,
   "metadata": {},
   "outputs": [
    {
     "name": "stdout",
     "output_type": "stream",
     "text": [
      "21009 2392 2971\n",
      "-20.4218227425\n"
     ]
    }
   ],
   "source": [
    "import os\n",
    "import sys\n",
    "\n",
    "dirname = '../../data/Mitochondria'\n",
    "filename_tmhmm = os.path.join(dirname, 'UP000005640_9606.tmhmm.gz')\n",
    "\n",
    "f_tmhmm = open(filename_tmhmm,'r')\n",
    "if filename_tmhmm.endswith('.gz'):\n",
    "    import gzip\n",
    "    f_tmhmm = gzip.open(filename_tmhmm, 'rt')\n",
    "\n",
    "tmhmm_list = dict()\n",
    "for line in f_tmhmm:\n",
    "    tokens = line.strip().split()\n",
    "    \n",
    "    if tokens[0].startswith('#'):\n",
    "        if tokens[2].startswith('Length:'):\n",
    "            seq_id = tokens[1]\n",
    "            seq_len = int(tokens[3])\n",
    "            tmhmm_list[seq_id] = {'len': seq_len, 'TMhelix': [], 'inside':[], 'outside':[]}\n",
    "        continue\n",
    "    else:\n",
    "        seq_id = tokens[0]\n",
    "        tmp_type = tokens[2]\n",
    "        tmp_pos = (int(tokens[3]), int(tokens[4]))\n",
    "        tmhmm_list[seq_id][tmp_type].append( tmp_pos )\n",
    "f_tmhmm.close()\n",
    "\n",
    "count_total = len(tmhmm_list)\n",
    "count_MultiTM = 0\n",
    "count_SingleTM = 0\n",
    "\n",
    "tm_len_dist = []\n",
    "tm_pos_dist = []\n",
    "tm_flank_dist = []\n",
    "\n",
    "for tmp_id in tmhmm_list.keys():\n",
    "    if len(tmhmm_list[tmp_id]['TMhelix']) == 1:\n",
    "        count_SingleTM += 1\n",
    "        tmp_tm_start = tmhmm_list[tmp_id]['TMhelix'][0][1]\n",
    "        tmp_tm_end = tmhmm_list[tmp_id]['TMhelix'][0][0]\n",
    "        tmp_tm_len = tmp_tm_end - tmp_tm_start + 1\n",
    "        tmp_tm_pos = tmp_tm_start + 0.5 * tmp_tm_len\n",
    "        tmp_tm_flank = min( tmp_tm_start, tmhmm_list[tmp_id]['len'] - tmp_tm_end)\n",
    "        tm_len_dist.append(tmp_tm_len)\n",
    "        tm_flank_dist.append( tmp_tm_flank )\n",
    "        tm_pos_dist.append(tmp_tm_pos*100.0/tmhmm_list[tmp_id]['len'])\n",
    "    elif len(tmhmm_list[tmp_id]['TMhelix']) > 1:\n",
    "        count_MultiTM += 1\n",
    "\n",
    "import numpy as np\n",
    "\n",
    "print(count_total, count_SingleTM, count_MultiTM)\n",
    "print(np.mean(tm_len_dist) )"
   ]
  },
  {
   "cell_type": "code",
   "execution_count": 51,
   "metadata": {},
   "outputs": [
    {
     "data": {
      "image/png": "[encoded data removed]",
      "text/plain": [
       "<matplotlib.figure.Figure at 0x169d3bd1a58>"
      ]
     },
     "metadata": {},
     "output_type": "display_data"
    }
   ],
   "source": [
    "%matplotlib inline\n",
    "import matplotlib.pyplot as plt\n",
    "\n",
    "fig = plt.figure(figsize=(12,6))\n",
    "\n",
    "ax1 = fig.add_subplot(1,1,1)\n",
    "ax1.hist(tm_pos_dist, bins=100, histtype='step')\n",
    "\n",
    "ax1.set_xlabel(\"Relative position of TMhelix on a protein (%)\")\n",
    "ax1.set_ylabel(\"Frequency\")\n",
    "ax1.grid()\n",
    "plt.show()"
   ]
  },
  {
   "cell_type": "code",
   "execution_count": 48,
   "metadata": {},
   "outputs": [
    {
     "data": {
      "image/png": "[encoded data removed]",
      "text/plain": [
       "<matplotlib.figure.Figure at 0x169d0358d68>"
      ]
     },
     "metadata": {},
     "output_type": "display_data"
    }
   ],
   "source": [
    "%matplotlib inline\n",
    "import matplotlib.pyplot as plt\n",
    "\n",
    "fig = plt.figure(figsize=(12,6))\n",
    "\n",
    "ax1 = fig.add_subplot(1,2,1)\n",
    "ax1.hist( [min(x, 200) for x in tm_flank_dist], bins=100, histtype='step', cumulative=False, normed=0 )\n",
    "ax1.grid()\n",
    "\n",
    "ax2 = fig.add_subplot(1,2,2)\n",
    "ax2.hist( [min(x, 200) for x in tm_flank_dist], bins=100, histtype='step', cumulative=True, normed=1 )\n",
    "ax2.grid()\n",
    "ax2.set_yticks([x*0.1 for x in range(0,11)])\n",
    "\n",
    "plt.show()"
   ]
  },
  {
   "cell_type": "code",
   "execution_count": null,
   "metadata": {},
   "outputs": [],
   "source": []
  }
 ],
 "metadata": {
  "kernelspec": {
   "display_name": "Python 3",
   "language": "python",
   "name": "python3"
  },
  "language_info": {
   "codemirror_mode": {
    "name": "ipython",
    "version": 3
   },
   "file_extension": ".py",
   "mimetype": "text/x-python",
   "name": "python",
   "nbconvert_exporter": "python",
   "pygments_lexer": "ipython3",
   "version": "3.6.3"
  }
 },
 "nbformat": 4,
 "nbformat_minor": 2
}
