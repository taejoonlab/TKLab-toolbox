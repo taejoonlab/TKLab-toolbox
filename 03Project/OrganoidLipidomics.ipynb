{
 "cells": [
  {
   "cell_type": "code",
   "execution_count": 22,
   "metadata": {},
   "outputs": [],
   "source": [
    "filename_raw = '../../data/MidbrainOrganoid/201612_OrganoidLipidomics.raw.txt'\n",
    "f_raw = open(filename_raw,'r')\n",
    "target_list = [x.split(',')[0].replace(' ','').replace('\"','') for x in f_raw.readline().strip().split(\"\\t\")]\n",
    "#print(\"\\n\".join(sorted(target_list)))\n",
    "\n",
    "t2s = dict()\n",
    "for tmp_t in target_list:\n",
    "    t2s[tmp_t] = dict()\n",
    "\n",
    "sample_list = []\n",
    "for line in f_raw:\n",
    "    tmp_tokens = line.strip().split(\"\\t\")\n",
    "    tmp_sample_name = tmp_tokens[0].replace(' ','_').replace('Hg','').replace('Lipo','Div')\n",
    "    sample_list.append(tmp_sample_name)\n",
    "    for i in range(1,len(tmp_tokens)):\n",
    "        if tmp_tokens[i] != '_':\n",
    "            t2s[target_list[i-1]][tmp_sample_name] = float(tmp_tokens[i])\n",
    "    #print(tmp_sample_name)\n",
    "f_raw.close()\n",
    "\n",
    "count = 0\n",
    "f_out = open('../../data/MidbrainOrganoid/201612_OrganoidLipidomics.refined.txt','w')\n",
    "f_out.write(\"TargetName\\t%s\\n\"%(\"\\t\".join(sorted(sample_list))))\n",
    "for tmp_t in sorted(target_list):\n",
    "    out_str_list = []\n",
    "    for tmp_s in sorted(sample_list):\n",
    "        if tmp_s in t2s[tmp_t]:\n",
    "            out_str_list.append( '%.05f'%t2s[tmp_t][tmp_s] )\n",
    "    if len(out_str_list) != 18:\n",
    "        continue\n",
    "    \n",
    "    count += 1\n",
    "    f_out.write( \"%s\\t%s\\n\"%(tmp_t, \"\\t\".join(out_str_list)) )\n",
    "f_out.close()\n",
    "                            "
   ]
  },
  {
   "cell_type": "code",
   "execution_count": null,
   "metadata": {},
   "outputs": [],
   "source": []
  }
 ],
 "metadata": {
  "kernelspec": {
   "display_name": "Python 3",
   "language": "python",
   "name": "python3"
  },
  "language_info": {
   "codemirror_mode": {
    "name": "ipython",
    "version": 3
   },
   "file_extension": ".py",
   "mimetype": "text/x-python",
   "name": "python",
   "nbconvert_exporter": "python",
   "pygments_lexer": "ipython3",
   "version": "3.6.3"
  }
 },
 "nbformat": 4,
 "nbformat_minor": 2
}
