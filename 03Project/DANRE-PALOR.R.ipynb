{
 "cells": [
  {
   "cell_type": "code",
   "execution_count": 13,
   "metadata": {},
   "outputs": [],
   "source": [
    "library(limma)\n",
    "library(edgeR)\n",
    "\n",
    "filename_in <- '../../data/Flounder/DANRE-PAROL_liver.count.txt'\n",
    "filename_base <- filename_in\n",
    "sample1 <- 'DR'\n",
    "sample2 <- 'PO'\n",
    "min_cpm1 <- 2\n",
    "\n",
    "x <- read.delim(filename_in,row.names='GeneName',header=T)\n",
    "groups <- gsub('_[123]$','',colnames(x))\n",
    "keep <- rowSums(cpm(x)>1) >= min_cpm1\n",
    "x <- x[keep,]\n",
    "\n",
    "y <- DGEList(counts=x,group=groups)\n",
    "design <- model.matrix( ~ as.factor(groups) )\n",
    "\n",
    "v <- voom(y, design)\n",
    "\n",
    "fit <- lmFit(v, design)\n",
    "fit <- eBayes(fit, trend=TRUE)\n",
    "\n",
    "write.table( topTable(fit, coef=ncol(design), confint=TRUE, n=Inf), file='../../data/Flounder/DANRE-PAROL_liver.limma_out.txt' )\n",
    "\n"
   ]
  },
  {
   "cell_type": "code",
   "execution_count": 15,
   "metadata": {},
   "outputs": [],
   "source": [
    "filename_in <- '../../data/Flounder/DANRE-PAROL_liver.count.txt'\n",
    "filename_base <- filename_in\n",
    "sample1 <- 'DR'\n",
    "sample2 <- 'PO'\n",
    "min_cpm1 <- 2\n",
    "\n",
    "filename_base <- sub('.txt','',filename_in)\n",
    "filename_cpm <- sub('.txt','.edgeR_cpm.txt',filename_in)\n",
    "filename_out <- sub('.txt','.edgeR_out.txt',filename_in)\n",
    "\n",
    "\n",
    "library(edgeR)\n",
    "\n",
    "x <- read.delim(filename_in,row.names='GeneName',header=T)\n",
    "groups <- gsub('_[123]$','',colnames(x))\n",
    "keep <- rowSums(cpm(x)>1) >= min_cpm1\n",
    "x <- x[keep,]\n",
    "\n",
    "y <- DGEList(counts=x,group=groups)\n",
    "y <- calcNormFactors(y)\n",
    "y <- estimateCommonDisp(y)\n",
    "y <- estimateTagwiseDisp(y)\n",
    "\n",
    "write.table(cpm(x), file=filename_cpm, row.names=TRUE, col.names=TRUE, sep='\\t')\n",
    "write.table(topTags(exactTest(y,pair=c(sample2,sample1)),n=Inf), paste(filename_base,paste(sample1,sample2,sep='-'),'edgeR_out',sep='.'),sep='\\t')\n"
   ]
  },
  {
   "cell_type": "code",
   "execution_count": null,
   "metadata": {},
   "outputs": [],
   "source": []
  }
 ],
 "metadata": {
  "kernelspec": {
   "display_name": "R",
   "language": "R",
   "name": "ir"
  },
  "language_info": {
   "codemirror_mode": "r",
   "file_extension": ".r",
   "mimetype": "text/x-r-source",
   "name": "R",
   "pygments_lexer": "r",
   "version": "3.4.2"
  }
 },
 "nbformat": 4,
 "nbformat_minor": 2
}
