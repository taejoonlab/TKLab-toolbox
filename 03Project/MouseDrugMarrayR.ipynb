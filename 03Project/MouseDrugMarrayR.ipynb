{
 "cells": [
  {
   "cell_type": "code",
   "execution_count": 5,
   "metadata": {},
   "outputs": [
    {
     "data": {
      "text/html": [
       "<strong>png:</strong> 2"
      ],
      "text/latex": [
       "\\textbf{png:} 2"
      ],
      "text/markdown": [
       "**png:** 2"
      ],
      "text/plain": [
       "png \n",
       "  2 "
      ]
     },
     "metadata": {},
     "output_type": "display_data"
    }
   ],
   "source": [
    "filename_top <- '../../data/03_ShawnJe/Je201608_MouseArray/Je201608_MouseArray_v3.top.txt';\n",
    "tbl <- read.table(filename_top, header=T,row.names='ProbeID' )\n",
    "\n",
    "filename_go <- '../../data/03_ShawnJe/Je201608_MouseArray/Je201608_MouseArray_v3.serotonineGO_top.txt';\n",
    "tbl_go <- read.table(filename_go, header=T,row.names='ProbeID' )\n",
    "\n",
    "filename_r <- '../../data/03_ShawnJe/Je201608_MouseArray/Je201608_MouseArray_v3.HTR_top.txt';\n",
    "tbl_r <- read.table(filename_r, header=T,row.names='ProbeID' )\n",
    "\n",
    "filename_t <- '../../data/03_ShawnJe/Je201608_MouseArray/Je201608_MouseArray_v3.transporter_top.txt';\n",
    "tbl_t <- read.table(filename_t, header=T,row.names='ProbeID' )\n",
    "\n",
    "filename_s <- '../../data/03_ShawnJe/Je201608_MouseArray/Je201608_MouseArray_v3.synthase_top.txt';\n",
    "tbl_s <- read.table(filename_s, header=T,row.names='ProbeID' )\n",
    "\n",
    "pdf(\"plot.pdf\")\n",
    "library(repr)\n",
    "options(repr.plot.width=8, repr.plot.height=6)\n",
    "par(mar = c(8,5,2,2) + 0.1)\n",
    "smoothScatter(tbl$AveExpr, tbl$logFC, xlab=\"Average Expression\", ylab=\"log2FC\", ylim=range(-2,2))\n",
    "points(tbl_go$AveExpr, tbl_go$logFC, pch=15, col='blue')\n",
    "points(tbl_r$AveExpr, tbl_r$logFC, pch=16, col='magenta')\n",
    "points(tbl_t$AveExpr, tbl_t$logFC, pch=17, col='orange')\n",
    "points(tbl_s$AveExpr, tbl_s$logFC, pch=18, col='red')\n",
    "legend(\"topright\",legend=c(\"Receptors\", \"Transporters\",\"Synthase\",\"GO term related\"), col=c(\"magenta\", \"orange\", \"red\", \"blue\"), pch=c(16,17,18,15))\n",
    "grid()\n",
    "dev.off()"
   ]
  },
  {
   "cell_type": "code",
   "execution_count": null,
   "metadata": {},
   "outputs": [],
   "source": []
  }
 ],
 "metadata": {
  "kernelspec": {
   "display_name": "R",
   "language": "R",
   "name": "ir"
  },
  "language_info": {
   "codemirror_mode": "r",
   "file_extension": ".r",
   "mimetype": "text/x-r-source",
   "name": "R",
   "pygments_lexer": "r",
   "version": "3.4.2"
  }
 },
 "nbformat": 4,
 "nbformat_minor": 2
}
