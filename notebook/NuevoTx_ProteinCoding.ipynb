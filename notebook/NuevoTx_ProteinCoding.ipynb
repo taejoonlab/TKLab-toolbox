{
 "cells": [
  {
   "cell_type": "code",
   "execution_count": null,
   "metadata": {},
   "outputs": [],
   "source": [
    "\n",
    "db_name = 'treefam9' ## treefam9 or veNOG45\n",
    "\n",
    "filename_nc = 'gencode.v26.lncRNA_transcripts_prot6.MODtree.%s_input.no_HS.bp+_tbl_best'%db_name\n",
    "filename_pc = 'gencode.v26.pc_transcripts_prot6.MODtree.%s_input.no_HS.bp+_tbl_best'%db_name\n",
    "\n"
   ]
  }
 ],
 "metadata": {
  "kernelspec": {
   "display_name": "Python 3",
   "language": "python",
   "name": "python3"
  },
  "language_info": {
   "codemirror_mode": {
    "name": "ipython",
    "version": 3
   },
   "file_extension": ".py",
   "mimetype": "text/x-python",
   "name": "python",
   "nbconvert_exporter": "python",
   "pygments_lexer": "ipython3",
   "version": "3.6.3"
  }
 },
 "nbformat": 4,
 "nbformat_minor": 2
}
