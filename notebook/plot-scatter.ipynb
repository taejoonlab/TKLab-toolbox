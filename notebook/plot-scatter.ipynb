{
 "cells": [
  {
   "cell_type": "code",
   "execution_count": 2,
   "metadata": {},
   "outputs": [],
   "source": [
    "import math\n",
    "\n",
    "# List for all data\n",
    "list_ctrl = []\n",
    "list_test = []\n",
    "\n",
    "# List for marked data (i.e. DE genes)\n",
    "list_mark_ctrl = []\n",
    "list_mark_test = []\n",
    "\n",
    "# List of labeled data (i.e. the gene of interest)\n",
    "list_annot_ctrl = []\n",
    "list_annot_test = []\n",
    "list_annot_label = []\n",
    "\n",
    "list_annot_genes = ['HIP1R', 'LRRC4C', 'CD38', 'TMEM38A', 'PTPN11', 'TH', 'KCTD8', 'KIF5C;KIF5A', 'NEFH', 'NEFM', 'NEFL','SLC6A1']\n",
    "\n",
    "filename_qprot = 'qprot_SNcVTA_OGA.txt_qprot_fdr100'\n",
    "\n",
    "x_label = 'O-GlcNAc modified proteins in WT, log2(LFQ)'\n",
    "y_label = 'O-GlcNAc modified proteins in OGA, log2(LFQ)'\n",
    "\n",
    "path_list = []\n",
    "f_path = open('pathway.list', 'r')\n",
    "for line in f_path:\n",
    "    path_list.append(line.strip())\n",
    "f_path.close()\n",
    "\n",
    "f_qprot = open(filename_qprot, 'r')\n",
    "f_qprot.readline()\n",
    "for line in f_qprot:\n",
    "    tokens = line.strip().split(\"\\t\")\n",
    "    tmp_name = tokens[-1]\n",
    "    if tmp_name.startswith('0') or tmp_name.startswith('-'):\n",
    "        continue\n",
    "    tmp_test = float(tokens[-4])\n",
    "    tmp_ctrl = float(tokens[-3])\n",
    "    tmp_log2_ctrl = math.log(tmp_ctrl+0.001) / math.log(2)\n",
    "    tmp_log2_test = math.log(tmp_test+0.001) / math.log(2)\n",
    "    tmp_log2FC = tmp_log2_test - tmp_log2_ctrl\n",
    "    tmp_FDR = float(tokens[-7])\n",
    "    list_ctrl.append(tmp_log2_ctrl)\n",
    "    list_test.append(tmp_log2_test)\n",
    "    \n",
    "    if tmp_FDR < 0.05 and abs(tmp_log2FC) > 1:\n",
    "        #if tmp_log2_ctrl < 0 or tmp_log2_test < 0:\n",
    "        #    print(tokens)\n",
    "        \n",
    "        list_mark_ctrl.append(tmp_log2_ctrl)\n",
    "        list_mark_test.append(tmp_log2_test)\n",
    "\n",
    "        #if tokens[0] in path_list:\n",
    "        if tmp_name in list_annot_genes:\n",
    "            list_annot_ctrl.append(tmp_log2_ctrl)\n",
    "            list_annot_test.append(tmp_log2_test)\n",
    "            list_annot_label.append(tmp_name)\n",
    "f_qprot.close()\n"
   ]
  },
  {
   "cell_type": "code",
   "execution_count": 9,
   "metadata": {},
   "outputs": [
    {
     "name": "stdout",
     "output_type": "stream",
     "text": [
      "NEFL\n",
      "NEFM\n",
      "NEFH\n",
      "TH\n",
      "KIF5C;KIF5A\n",
      "SLC6A1\n",
      "PTPN11\n",
      "CD38\n",
      "TMEM38A\n",
      "KCTD8\n",
      "LRRC4C\n",
      "HIP1R\n"
     ]
    },
    {
     "data": {
      "image/png": "[encoded data removed]",
      "text/plain": [
       "<Figure size 288x288 with 1 Axes>"
      ]
     },
     "metadata": {
      "needs_background": "light"
     },
     "output_type": "display_data"
    }
   ],
   "source": [
    "# Plotting\n",
    "import matplotlib.pyplot as plt\n",
    "import numpy as np\n",
    "\n",
    "min_lim = 15\n",
    "max_lim = 35\n",
    "fig = plt.figure(figsize=(4,4))\n",
    "\n",
    "ax1 = fig.add_subplot(1,1,1)\n",
    "ax1.hist2d(list_ctrl, list_test, bins=(250, 250), cmap=plt.cm.BuPu)\n",
    "ax1.plot([max(x, min_lim+2) for x in list_mark_ctrl],\\\n",
    "         [max(x, min_lim+2) for x in list_mark_test], 'r.')\n",
    "ax1.plot([max(x, min_lim+2) for x in list_annot_ctrl],\\\n",
    "         [max(x, min_lim+2) for x in list_annot_test], 'rx')\n",
    "tmp_i = 0\n",
    "for tmp_name in list_annot_label:\n",
    "    tmp_x = max(list_annot_ctrl[tmp_i], min_lim+2)\n",
    "    tmp_y = max(list_annot_test[tmp_i], min_lim+2)\n",
    "    ax1.annotate(tmp_name, (tmp_x, tmp_y), (tmp_x+0.5, tmp_y-0.5))\n",
    "    print(tmp_name)\n",
    "    tmp_i += 1\n",
    "\n",
    "ax1.set_xlim(min_lim, max_lim)\n",
    "ax1.set_ylim(min_lim, max_lim)\n",
    "\n",
    "ax1.set_yticks(range(15,36,5))\n",
    "ax1.set_xlabel(x_label)\n",
    "ax1.set_ylabel(y_label)\n",
    "#ax1.set_title(filename_qprot)\n",
    "ax1.grid()\n",
    "plt.savefig('%s.pdf' % filename_qprot)\n",
    "#plt.show()\n"
   ]
  },
  {
   "cell_type": "code",
   "execution_count": null,
   "metadata": {},
   "outputs": [],
   "source": []
  }
 ],
 "metadata": {
  "kernelspec": {
   "display_name": "Python 3",
   "language": "python",
   "name": "python3"
  },
  "language_info": {
   "codemirror_mode": {
    "name": "ipython",
    "version": 3
   },
   "file_extension": ".py",
   "mimetype": "text/x-python",
   "name": "python",
   "nbconvert_exporter": "python",
   "pygments_lexer": "ipython3",
   "version": "3.7.6"
  }
 },
 "nbformat": 4,
 "nbformat_minor": 4
}
