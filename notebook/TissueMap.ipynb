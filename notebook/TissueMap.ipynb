{
 "cells": [
  {
   "cell_type": "code",
   "execution_count": 6,
   "metadata": {},
   "outputs": [
    {
     "name": "stdout",
     "output_type": "stream",
     "text": [
      "['Kwon201608_KoreanFlounder_LiverA', 'Kwon201608_KoreanFlounder_LiverB', 'Kwon201608_KoreanFlounder_LiverC']\n"
     ]
    }
   ],
   "source": [
    "import os\n",
    "import gzip\n",
    "\n",
    "#data_dir = '../../data/TissueMap'\n",
    "data_dir = '../../data/Flounder'\n",
    "\n",
    "## RPKM * (library size in Million) / read_len == 1 for 1x coverage\n",
    "lib_size = 10\n",
    "read_len = 200\n",
    "#out_type = 'count'\n",
    "#out_format = '%d'\n",
    "out_type = 'rpkm'\n",
    "out_format = '%.2f'\n",
    "query_word = 'Liver'\n",
    "filename_out = 'Kwon201608_KoreanFlounder_%s.%s.txt'%(query_word, out_type)\n",
    "\n",
    "def read_exp(filename):\n",
    "    #SeqID\tReadCount\tPairCount\tReadCPM\tPairCPM\tSeqLen\tReadRPKM\tPairRPKM\n",
    "    rv = dict()\n",
    "    \n",
    "    f = open(filename,'r')\n",
    "    if filename.endswith('.gz'):\n",
    "        f = gzip.open(filename,'rt')\n",
    "        \n",
    "    for line in f:\n",
    "        if line.startswith('#'):\n",
    "            continue\n",
    "        tokens = line.strip().split(\"\\t\")\n",
    "        #print(tokens)\n",
    "        seq_id = tokens[0]\n",
    "        total_count = int(tokens[1])\n",
    "        pair_count = int(tokens[2])\n",
    "        total_cpm = float(tokens[3])\n",
    "        pair_cpm = float(tokens[4])\n",
    "        seq_len = int(tokens[5])\n",
    "        total_rpkm = float(tokens[6])\n",
    "        pair_rpkm = float(tokens[7])\n",
    "        #rv[seq_id] = {'count':pair_count, 'cpm':pair_cpm, 'rpkm':pair_rpkm, 'len':seq_len}\n",
    "        rv[seq_id] = {'count':total_count, 'cpm':total_cpm, 'rpkm':total_rpkm, 'len':seq_len}\n",
    "    f.close()\n",
    "    return rv\n",
    "\n",
    "exp_list = dict()\n",
    "sample_list = []\n",
    "seq_list = []\n",
    "for filename in os.listdir(data_dir):\n",
    "    if filename.find('.rpkm+cpm') < 0:\n",
    "        continue\n",
    "    if filename.find(query_word) < 0:\n",
    "        continue\n",
    "    sample_name = filename.split('.')[0]\n",
    "    exp_list[sample_name] = read_exp(os.path.join(data_dir, filename))\n",
    "    seq_list += exp_list[sample_name].keys()\n",
    "    sample_list.append(sample_name)\n",
    "\n",
    "selected_seq_list = []\n",
    "\n",
    "print(sample_list)\n",
    "f_out = open(os.path.join(data_dir, filename_out),'w')\n",
    "#f_out.write(\"SeqID\\t%s\\n\"%(\"\\t\".join(['%s_%s'%(x.split('_')[2], x.split('_')[5]) for x in sample_list])))\n",
    "f_out.write(\"SeqID\\t%s\\n\"%(\"\\t\".join([x.split('_')[2] for x in sample_list])))\n",
    "\n",
    "#print(\"SeqID\\t%s\"%(\"\\t\".join(['%s_%s'%(x.split('_')[2], x.split('_')[5]) for x in sample_list])))\n",
    "for tmp_seq_id in sorted(list(set(seq_list))):\n",
    "    out_str = [tmp_seq_id]\n",
    "    is_low = 0\n",
    "    for tmp_sample_id in sample_list:\n",
    "        if not tmp_seq_id in exp_list[tmp_sample_id]:\n",
    "            is_low += 1\n",
    "            exp_list[tmp_sample_id][tmp_seq_id] = {'rpkm': 0.0}\n",
    "            out_str.append(out_format%(0.0))\n",
    "            continue\n",
    "            \n",
    "        tmp_rpkm = exp_list[tmp_sample_id][tmp_seq_id]['rpkm']\n",
    "        tmp_exp = exp_list[tmp_sample_id][tmp_seq_id][out_type]\n",
    "        if tmp_rpkm * read_len / lib_size < 1:\n",
    "            is_low += 1\n",
    "            out_str.append(out_format%(0.0))\n",
    "        else:\n",
    "            out_str.append(out_format%(tmp_exp))\n",
    "    \n",
    "    if is_low >= len(sample_list)*2/3:\n",
    "        continue\n",
    "    \n",
    "    selected_seq_list.append(tmp_seq_id)\n",
    "    #print(\"\\t\".join(out_str))\n",
    "    f_out.write(\"\\t\".join(out_str) + \"\\n\")"
   ]
  },
  {
   "cell_type": "code",
   "execution_count": 7,
   "metadata": {},
   "outputs": [
    {
     "name": "stdout",
     "output_type": "stream",
     "text": [
      "Pearson Kwon201608_KoreanFlounder_LiverA Kwon201608_KoreanFlounder_LiverB\n",
      "(0.95324617948840995, 0.0)\n",
      "Spearman Kwon201608_KoreanFlounder_LiverA Kwon201608_KoreanFlounder_LiverB\n",
      "SpearmanrResult(correlation=0.89871853414530556, pvalue=0.0) \n",
      "\n",
      "Pearson Kwon201608_KoreanFlounder_LiverA Kwon201608_KoreanFlounder_LiverC\n",
      "(0.98830340000999595, 0.0)\n",
      "Spearman Kwon201608_KoreanFlounder_LiverA Kwon201608_KoreanFlounder_LiverC\n",
      "SpearmanrResult(correlation=0.81583877705416608, pvalue=0.0) \n",
      "\n",
      "Pearson Kwon201608_KoreanFlounder_LiverB Kwon201608_KoreanFlounder_LiverC\n",
      "(0.97809553820690609, 0.0)\n",
      "Spearman Kwon201608_KoreanFlounder_LiverB Kwon201608_KoreanFlounder_LiverC\n",
      "SpearmanrResult(correlation=0.80906969741772305, pvalue=0.0) \n",
      "\n"
     ]
    }
   ],
   "source": [
    "import scipy.stats as stat\n",
    "\n",
    "seq_list = sorted(list(set(seq_list)))\n",
    "\n",
    "for i in range(0,len(sample_list)):\n",
    "    sample_i = sample_list[i]\n",
    "    exp_i_list = [exp_list[sample_i][x]['rpkm'] for x in selected_seq_list]\n",
    "    for j in range(i+1,len(sample_list)):\n",
    "        sample_j = sample_list[j]\n",
    "        exp_j_list = [exp_list[sample_j][x]['rpkm'] for x in selected_seq_list]\n",
    "        print( \"Pearson\", sample_i, sample_j )\n",
    "        print( stat.pearsonr(exp_i_list, exp_j_list) )\n",
    "        print( \"Spearman\", sample_i, sample_j )\n",
    "        print( stat.spearmanr(exp_i_list, exp_j_list), \"\\n\" )"
   ]
  },
  {
   "cell_type": "code",
   "execution_count": null,
   "metadata": {},
   "outputs": [],
   "source": []
  }
 ],
 "metadata": {
  "kernelspec": {
   "display_name": "Python 3",
   "language": "python",
   "name": "python3"
  },
  "language_info": {
   "codemirror_mode": {
    "name": "ipython",
    "version": 3
   },
   "file_extension": ".py",
   "mimetype": "text/x-python",
   "name": "python",
   "nbconvert_exporter": "python",
   "pygments_lexer": "ipython3",
   "version": "3.6.3"
  }
 },
 "nbformat": 4,
 "nbformat_minor": 2
}
