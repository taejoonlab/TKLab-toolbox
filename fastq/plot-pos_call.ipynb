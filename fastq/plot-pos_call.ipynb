{
 "cells": [
  {
   "cell_type": "code",
   "execution_count": null,
   "metadata": {},
   "outputs": [],
   "source": [
    "%matplotlib inline\n",
    "\n",
    "#filename_call = '../../data/SingleCell/Undetermined_S0_L002_R1_001.pos_call'\n",
    "filename_call = '../../data/SingleCell/tmp.pos_call'\n",
    "\n",
    "f_call = open(filename_call,'r')\n",
    "\n",
    "headers = f_call.readline().strip().split(\"\\t\")\n",
    "print(headers)\n",
    "\n",
    "pos_list=  []\n",
    "N_list = []\n",
    "A_list = []\n",
    "T_list = []\n",
    "G_list = []\n",
    "C_list = []\n",
    "for line in f_call:\n",
    "    tokens = line.strip().split(\"\\t\")\n",
    "    tmp_sum = sum([int(x) for x in tokens[1:]])\n",
    "    pos_list.append( int(tokens[0]) )\n",
    "    tmp_A_freq = float(tokens[1])/tmp_sum\n",
    "    A_list.append( tmp_A_freq )\n",
    "    tmp_T_freq = float(tokens[2])/tmp_sum + tmp_A_freq\n",
    "    T_list.append( tmp_T_freq )\n",
    "    tmp_G_freq = float(tokens[3])/tmp_sum + tmp_T_freq\n",
    "    G_list.append( tmp_G_freq )\n",
    "    tmp_C_freq = float(tokens[4])/tmp_sum + tmp_G_freq\n",
    "    C_list.append( tmp_C_freq )\n",
    "    tmp_N_freq = float(tokens[5])/tmp_sum + tmp_C_freq\n",
    "    N_list.append( tmp_N_freq )\n",
    "f_call.close()\n",
    "\n",
    "import matplotlib.pyplot as plt\n",
    "fig = plt.figure(figsize=(12,4))\n",
    "ax1 = fig.add_subplot(1,1,1)\n",
    "ax1.bar(pos_list, N_list, facecolor='black')\n",
    "ax1.bar(pos_list, C_list, facecolor='red')\n",
    "ax1.bar(pos_list, G_list, facecolor='green')\n",
    "ax1.bar(pos_list, T_list, facecolor='orange')\n",
    "ax1.bar(pos_list, A_list, facecolor='blue')\n",
    "ax1.set_xticks(pos_list)\n",
    "ax1.set_yticks([0, 0.25, 0.50, 0.75, 1.0])\n",
    "ax1.grid()\n",
    "ax1.set_ylabel(\"BaseCall Proportion\")\n",
    "ax1.set_xlabel(\"Position (bp): read length is %d bp\"%(len(A_list)))\n",
    "plt.show()"
   ]
  },
  {
   "cell_type": "code",
   "execution_count": null,
   "metadata": {},
   "outputs": [],
   "source": []
  }
 ],
 "metadata": {
  "kernelspec": {
   "display_name": "Python 3",
   "language": "python",
   "name": "python3"
  },
  "language_info": {
   "codemirror_mode": {
    "name": "ipython",
    "version": 3
   },
   "file_extension": ".py",
   "mimetype": "text/x-python",
   "name": "python",
   "nbconvert_exporter": "python",
   "pygments_lexer": "ipython3",
   "version": "3.6.5"
  }
 },
 "nbformat": 4,
 "nbformat_minor": 2
}
