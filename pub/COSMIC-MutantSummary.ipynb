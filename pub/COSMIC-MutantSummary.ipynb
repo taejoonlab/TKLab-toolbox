{
 "cells": [
  {
   "cell_type": "code",
   "execution_count": null,
   "metadata": {},
   "outputs": [],
   "source": [
    "import gzip\n",
    "\n",
    "#filename_summary = '../../data/COSMIC+Cancer/CosmicCLP_MutantExport.summary.gz'\n",
    "#filename_out = '../../data/COSMIC+Cancer/CosmicCLP_MutantExport.sample_freq'\n",
    "#data_type = 'Cell Lines'\n",
    "\n",
    "#filename_summary = '../../data/COSMIC+Cancer/CosmicMutantExport.summary.gz'\n",
    "#filename_out = '../../data/COSMIC+Cancer/CosmicMutantExport.sample_freq'\n",
    "#data_type = 'Cancer Samples'\n",
    "\n",
    "#h_sample_name = 'Sample name'\n",
    "#h_mut_type = 'Mutation Description'\n",
    "\n",
    "filename_summary = '../../data/COSMIC+Cancer/Kandoth2013_Nature_STable2.txt'\n",
    "filename_out = '../../data/COSMIC+Cancer/Kandoth2013_Nature_STable2.sample_freq'\n",
    "data_type = 'Cancer Samples'\n",
    "\n",
    "h_sample_name = 'Tumor_Sample'\n",
    "h_mut_type = 'Variant_Classification'"
   ]
  },
  {
   "cell_type": "code",
   "execution_count": null,
   "metadata": {},
   "outputs": [],
   "source": [
    "mut_freq = dict()\n",
    "\n",
    "f_summary = open(filename_summary,'r')\n",
    "if filename_summary.endswith('.gz'):\n",
    "    f_summary = gzip.open(filename_summary,'rt')\n",
    "    \n",
    "headers = f_summary.readline().strip().split(\"\\t\")\n",
    "print(headers)\n",
    "\n",
    "idx_sample_name = headers.index(h_sample_name)\n",
    "idx_mut_desc = headers.index(h_mut_type)\n",
    "\n",
    "for line in f_summary:\n",
    "    #tokens = line.strip().split(\"\\t\")\n",
    "    tokens = line.split(\"\\t\")\n",
    "    \n",
    "    tmp_sample_name = tokens[idx_sample_name]\n",
    "    \n",
    "    if not tmp_sample_name in mut_freq:\n",
    "        mut_freq[tmp_sample_name] = {'subs':0, 'indel':0, 'others':0}\n",
    "    \n",
    "    tmp_mut_desc = tokens[idx_mut_desc]\n",
    "    if tmp_mut_desc.find('Frame') >= 0:\n",
    "    #if tmp_mut_desc.startswith('Insertion') or tmp_mut_desc.startswith('Deletion'):\n",
    "        mut_freq[tmp_sample_name]['indel'] += 1\n",
    "    #elif tmp_mut_desc.startswith('Substitution'):\n",
    "    #    mut_freq[tmp_sample_name]['subs'] += 1\n",
    "    else:\n",
    "        mut_freq[tmp_sample_name]['others'] += 1\n",
    "f_summary.close()"
   ]
  },
  {
   "cell_type": "code",
   "execution_count": null,
   "metadata": {},
   "outputs": [],
   "source": [
    "indel_count_list = []\n",
    "mut_count_list = []\n",
    "\n",
    "count_small_mut = 0\n",
    "\n",
    "f_out = open(filename_out,'w')\n",
    "f_out.write('#SampleName\\tTotalMutation\\tSubstitutions\\Indels\\tOthers\\n')\n",
    "for tmp_s in sorted(mut_freq.keys()):\n",
    "    count_total = sum(mut_freq[tmp_s].values())\n",
    "    if count_total < 10:\n",
    "        count_small_mut += 1\n",
    "        continue\n",
    "        \n",
    "    count_subs = mut_freq[tmp_s]['subs']\n",
    "    count_indel = mut_freq[tmp_s]['indel']\n",
    "    count_others = mut_freq[tmp_s]['others']\n",
    "    f_out.write(\"%s\\t%d\\t%d\\t%d\\t%d\\n\"%(tmp_s, count_total, count_subs, count_indel, count_others))\n",
    "\n",
    "    mut_count_list.append(count_total)\n",
    "    indel_count_list.append(count_indel)    \n",
    "f_out.close()\n",
    "\n",
    "count_cell_lines = len(mut_freq.keys()) - count_small_mut\n",
    "mean_indel_count = sum(indel_count_list)/count_cell_lines\n",
    "median_indel_count = sorted(indel_count_list)[int(count_cell_lines*0.5)]"
   ]
  },
  {
   "cell_type": "code",
   "execution_count": null,
   "metadata": {},
   "outputs": [],
   "source": [
    "%matplotlib inline\n",
    "import matplotlib.pyplot as plt\n",
    "\n",
    "fig = plt.figure(figsize=(8,4))\n",
    "ax1 = fig.add_subplot(1,1,1)\n",
    "ax1.hist([min(x,100) for x in indel_count_list], bins=100)\n",
    "#ax1.hist([min(x,100) for x in mut_count_list], bins=100)\n",
    "ax1.set_ylabel('Number of cell lines')\n",
    "ax1.set_xlabel('Number of Exonic Indels')\n",
    "ax1.grid()\n",
    "ax1.set_title('Number of Indels in %d %s (Mean: %.1f, Median:%d)'\\\n",
    "              %(count_cell_lines, data_type, mean_indel_count, median_indel_count))\n",
    "plt.show()\n",
    "\n",
    "count_gt10_indels = len([x for x in indel_count_list if x > 10])\n",
    "pct_gt10_indels = count_gt10_indels/count_cell_lines*100\n",
    "\n",
    "print(\"Samples with < 10 mutations: %d\"%count_small_mut)\n",
    "print(\">10 indels: %d (%.2f pct)\"%(count_gt10_indels, pct_gt10_indels))"
   ]
  },
  {
   "cell_type": "code",
   "execution_count": null,
   "metadata": {},
   "outputs": [],
   "source": []
  }
 ],
 "metadata": {
  "kernelspec": {
   "display_name": "Python 3",
   "language": "python",
   "name": "python3"
  },
  "language_info": {
   "codemirror_mode": {
    "name": "ipython",
    "version": 3
   },
   "file_extension": ".py",
   "mimetype": "text/x-python",
   "name": "python",
   "nbconvert_exporter": "python",
   "pygments_lexer": "ipython3",
   "version": "3.6.5"
  }
 },
 "nbformat": 4,
 "nbformat_minor": 2
}
