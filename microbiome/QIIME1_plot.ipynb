{
 "cells": [
  {
   "cell_type": "code",
   "execution_count": 54,
   "metadata": {},
   "outputs": [
    {
     "name": "stdout",
     "output_type": "stream",
     "text": [
      "TaxaName\tXENLATadpoleGutAmp1x\tXENLATadpoleGutGen1x\n",
      "f__Microbacteriaceae\t0.069\t0.051\n",
      "f__[Weeksellaceae]\t0.003\t0.072\n",
      "f__\t0.050\t0.079\n",
      "f__Xanthobacteraceae\t0.121\t0.048\n",
      "f__Comamonadaceae\t0.037\t0.095\n",
      "f__Pseudomonadaceae\t0.518\t0.409\n",
      "f__Xanthomonadaceae\t0.167\t0.197\n"
     ]
    }
   ],
   "source": [
    "import os\n",
    "\n",
    "dirname_taxa = '../data/Microbiome/Hyun201708_XENLA_Antibiotic/taxa'\n",
    "#dirname_taxa = '../data/Microbiome/Hyun201708_XENLA_GutVsBody/taxa'\n",
    "#dirname_taxa = '../data/Microbiome/Hyun201708_XENLA_AdultDV/taxa'\n",
    "filename_otu_tbl = 'otu_table_L5.txt'\n",
    "\n",
    "min_freq = 0.05\n",
    "\n",
    "f = open( os.path.join( dirname_taxa, filename_otu_tbl), 'r')\n",
    "f.readline()  ## header\n",
    "\n",
    "taxa_freq = dict()\n",
    "sample_list = f.readline().strip().split(\"\\t\")[1:]\n",
    "sample_size = len(sample_list)\n",
    "for tmp_sample in sample_list:\n",
    "    #taxa_freq[tmp_sample] = {'MISC':0.0}\n",
    "    taxa_freq[tmp_sample] = dict()\n",
    "    \n",
    "#taxa_list = ['MISC']\n",
    "taxa_list = []\n",
    "for line in f:\n",
    "    tmp_tokens = line.strip().split(\"\\t\")\n",
    "    tmp_taxa_name = tmp_tokens[0]\n",
    "    tmp_freq_list = [float(x) for x in tmp_tokens[1:]]\n",
    "    is_misc = 0\n",
    "    if max(tmp_freq_list) >= min_freq:\n",
    "        is_misc = 1\n",
    "        taxa_list.append(tmp_taxa_name)\n",
    "        \n",
    "    for i in range(0,sample_size):\n",
    "        tmp_sample = sample_list[i]\n",
    "        if is_misc > 0:        \n",
    "            taxa_freq[tmp_sample][tmp_taxa_name] = tmp_freq_list[i]\n",
    "        #else:\n",
    "        #    taxa_freq[tmp_sample]['MISC'] = tmp_freq_list[i]\n",
    "f.close()\n",
    "\n",
    "sample_list = sorted(sample_list)\n",
    "print(\"TaxaName\\t%s\"%(\"\\t\".join([x.replace('Hyun201708','') for x in sample_list])))\n",
    "for tmp_taxa_name in sorted(taxa_list):\n",
    "    tmp_freq_str = \"\\t\".join(['%.3f'%taxa_freq[tmp_s][tmp_taxa_name] for tmp_s in sample_list ])\n",
    "    print(\"%s\\t%s\"%(tmp_taxa_name.split(';')[-1], tmp_freq_str))"
   ]
  },
  {
   "cell_type": "code",
   "execution_count": 53,
   "metadata": {},
   "outputs": [
    {
     "data": {
      "image/png": "[encoded data removed]",
      "text/plain": [
       "<matplotlib.figure.Figure at 0x16cb077a9e8>"
      ]
     },
     "metadata": {},
     "output_type": "display_data"
    }
   ],
   "source": [
    "%matplotlib inline\n",
    "\n",
    "import math\n",
    "import matplotlib.pyplot as plt\n",
    "\n",
    "fig = plt.figure(figsize=(10,8))\n",
    "ax1 = fig.add_subplot(1,1,1)\n",
    "ax1.grid()\n",
    "\n",
    "#colors = ['orange','pink','darkblue','lightgreen']\n",
    "#sample_list = ['Hyun201708XENLAAdultDorsal1','Hyun201708XENLAAdultDorsal2','Hyun201708XENLAAdultVentral1','Hyun201708XENLAAdultVentral2']\n",
    "#sample_list = ['Hyun201708XENTRAdultDorsal1','Hyun201708XENTRAdultDorsal2','Hyun201708XENTRAdultVentral2']\n",
    "#sample_list = ['Hyun201708XENLAAdultDorsal1','Hyun201708XENLAAdultDorsal2','Hyun201708XENTRAdultDorsal1','Hyun201708XENTRAdultDorsal2']\n",
    "#sample_list = ['Hyun201708XENLAAdultVentral1','Hyun201708XENLAAdultVentral2','Hyun201708XENTRAdultVentral2']\n",
    "\n",
    "#colors = ['orange','pink','darkblue','lightgreen']\n",
    "#sample_list = ['Hyun201708XENLASt41Gut1','Hyun201708XENLASt41Gut2','Hyun201708XENLASt45Gut2','Hyun201708XENLASt45Gut3']\n",
    "#sample_list = ['Hyun201708XENLASt45Body1','Hyun201708XENLASt45Body2','Hyun201708XENLASt45Gut2','Hyun201708XENLASt45Gut3']\n",
    "#colors = ['lightblue','lightgreen','darkblue','darkgreen']\n",
    "#sample_list = ['Hyun201708XENLASt43Body1','Hyun201708XENLASt43Body2','Hyun201708XENLASt45Body1','Hyun201708XENLASt45Body2']\n",
    "\n",
    "colors = ['lightblue','pink']\n",
    "sample_list = ['Hyun201708XENLATadpoleGutAmp1x','Hyun201708XENLATadpoleGutGen1x']\n",
    "\n",
    "bar_pos = 0\n",
    "#tmp_width = 0.4\n",
    "tmp_width = 0.4\n",
    "\n",
    "for tmp_taxa_name in sorted(taxa_list):          \n",
    "    for tmp_s in range(0,len(sample_list)):\n",
    "        tmp_sample_name = sample_list[tmp_s]\n",
    "        tmp_freq = taxa_freq[tmp_sample_name][tmp_taxa_name]\n",
    "        if bar_pos == 0:\n",
    "            ax1.barh(bar_pos+tmp_width*tmp_s, tmp_freq, height=tmp_width, label=tmp_sample_name, facecolor=colors[tmp_s])\n",
    "            #ax1.barh(bar_pos+1.2, tmp_BHI1, height=0.3, label='GamakSite1BHI', facecolor='green')\n",
    "            #ax1.barh(bar_pos+1.5, tmp_BHI2, height=0.3, label='GamakSite2BHI', facecolor='lightgreen')\n",
    "        else:\n",
    "            ax1.barh(bar_pos+tmp_width*tmp_s, tmp_freq, height=tmp_width, facecolor=colors[tmp_s])\n",
    "    bar_pos += 1\n",
    "\n",
    "ax1.legend(loc='lower right')\n",
    "ax1.set_yticks([x+0.5 for x in range(0,len(taxa_list))])\n",
    "ax1.set_yticklabels(taxa_list)\n",
    "ax1.set_xlabel('Percentage')\n",
    "ax1.set_xlim(0,1)\n",
    "#plt.show()\n",
    "#plt.savefig('AdultDV_XENLA+XENLA_Dorsal.L5.pdf')\n",
    "\n",
    "#plt.savefig('GutVsBody_St45Body+St45Gut.L5.pdf')\n",
    "#plt.savefig('GutVsBody_St41Gut+St45Gut.L2.pdf')\n",
    "\n",
    "plt.savefig('Antibiotic.L2.pdf')"
   ]
  },
  {
   "cell_type": "code",
   "execution_count": 63,
   "metadata": {},
   "outputs": [
    {
     "ename": "FileNotFoundError",
     "evalue": "[Errno 2] No such file or directory: 'otu_table_L2.txt'",
     "output_type": "error",
     "traceback": [
      "\u001b[1;31m---------------------------------------------------------------------------\u001b[0m",
      "\u001b[1;31mFileNotFoundError\u001b[0m                         Traceback (most recent call last)",
      "\u001b[1;32m<ipython-input-63-b0c43747f865>\u001b[0m in \u001b[0;36m<module>\u001b[1;34m()\u001b[0m\n\u001b[0;32m      4\u001b[0m \u001b[0mfilename_tbl\u001b[0m \u001b[1;33m=\u001b[0m \u001b[1;34m'otu_table_L2.txt'\u001b[0m\u001b[1;33m\u001b[0m\u001b[0m\n\u001b[0;32m      5\u001b[0m \u001b[1;33m\u001b[0m\u001b[0m\n\u001b[1;32m----> 6\u001b[1;33m \u001b[0mf_tbl\u001b[0m \u001b[1;33m=\u001b[0m \u001b[0mopen\u001b[0m\u001b[1;33m(\u001b[0m\u001b[0mfilename_tbl\u001b[0m\u001b[1;33m,\u001b[0m\u001b[1;34m'r'\u001b[0m\u001b[1;33m)\u001b[0m\u001b[1;33m\u001b[0m\u001b[0m\n\u001b[0m\u001b[0;32m      7\u001b[0m \u001b[0mf_tbl\u001b[0m\u001b[1;33m.\u001b[0m\u001b[0mreadline\u001b[0m\u001b[1;33m(\u001b[0m\u001b[1;33m)\u001b[0m\u001b[1;33m\u001b[0m\u001b[0m\n\u001b[0;32m      8\u001b[0m \u001b[1;33m\u001b[0m\u001b[0m\n",
      "\u001b[1;31mFileNotFoundError\u001b[0m: [Errno 2] No such file or directory: 'otu_table_L2.txt'"
     ]
    }
   ],
   "source": [
    "%matplotlib inline\n",
    "import math\n",
    "\n",
    "filename_tbl = 'otu_table_L2.txt'\n",
    "\n",
    "f_tbl = open(filename_tbl,'r')\n",
    "f_tbl.readline()\n",
    "\n",
    "freq_list = dict()\n",
    "headers = f_tbl.readline().strip().split(\"\\t\")\n",
    "for i in range(1,len(headers)):\n",
    "    freq_list[ headers[i] ] = []\n",
    "\n",
    "import matplotlib.pyplot as plt\n",
    "fig = plt.figure(figsize=(5,5))\n",
    "ax1 = fig.add_subplot(1,1,1)\n",
    "ax1.grid()\n",
    "\n",
    "bar_pos = 0\n",
    "phyla_list = []\n",
    "pct_list = []\n",
    "for line in f_tbl:\n",
    "    tokens = line.strip().split(\"\\t\")\n",
    "    tmp_taxa = tokens[0]\n",
    "    for i in range(1,len(tokens)):\n",
    "        freq_list[headers[i]].append( math.log10(float(tokens[i])+1e-6) )\n",
    "    if( max([float(x) for x in tokens[1:]]) > 0.05 ):\n",
    "        tmp_phylum = tokens[0].split('__')[2]\n",
    "        tmp_raw2 = float(tokens[1])\n",
    "        tmp_raw1 = float(tokens[2])\n",
    "        tmp_BHI1 = float(tokens[3])\n",
    "        tmp_LB1 = float(tokens[4])\n",
    "        tmp_BHI2 = float(tokens[5])\n",
    "        tmp_LB2 = float(tokens[6])\n",
    "        \n",
    "        phyla_list.append(tmp_phylum)\n",
    "        pct_list.append(tmp_LB1)\n",
    "f_tbl.close()\n",
    "\n",
    "ax1.pie(pct_list, labels=phyla_list, autopct='%1.1f%%', shadow=True, startangle=90)\n",
    "plt.show()"
   ]
  },
  {
   "cell_type": "code",
   "execution_count": null,
   "metadata": {
    "collapsed": true
   },
   "outputs": [],
   "source": []
  }
 ],
 "metadata": {
  "kernelspec": {
   "display_name": "Python 3",
   "language": "python",
   "name": "python3"
  },
  "language_info": {
   "codemirror_mode": {
    "name": "ipython",
    "version": 3
   },
   "file_extension": ".py",
   "mimetype": "text/x-python",
   "name": "python",
   "nbconvert_exporter": "python",
   "pygments_lexer": "ipython3",
   "version": "3.6.2"
  }
 },
 "nbformat": 4,
 "nbformat_minor": 2
}
