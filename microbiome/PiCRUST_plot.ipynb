{
 "cells": [
  {
   "cell_type": "code",
   "execution_count": 30,
   "metadata": {},
   "outputs": [
    {
     "name": "stdout",
     "output_type": "stream",
     "text": [
      "TaxaName\tXENLAAdultDorsal1\tXENLAAdultDorsal2\tXENLAAdultDorsal4\tXENLAAdultVentral1\tXENLAAdultVentral2\tXENTRAdultDorsal1\tXENTRAdultDorsal2\tXENTRAdultVentral2\n",
      "Cardiovascular_Diseases\t1.43\t2.02\t2.57\t1.28\t1.48\t3.18\t3.66\t3.10\n"
     ]
    }
   ],
   "source": [
    "import os\n",
    "import math\n",
    "\n",
    "dirname_taxa = '../data/Microbiome/'\n",
    "#filename_tbl = 'Hyun201708_XENLA_GutVsBody.KEGG.L2.tab'\n",
    "#filename_tbl = 'Hyun201708_XENLA_Antibiotic.KEGG.L2.tab'\n",
    "filename_tbl = 'Hyun201708_XENLA_AdultDV.KEGG.L2.tab'\n",
    "\n",
    "min_freq = 1000\n",
    "\n",
    "f = open( os.path.join( dirname_taxa, filename_tbl), 'r')\n",
    "f.readline()  ## header\n",
    "\n",
    "path_freq = dict()\n",
    "sample_list = f.readline().strip().split(\"\\t\")[1:-1]\n",
    "sample_size = len(sample_list)\n",
    "for tmp_sample in sample_list:\n",
    "    #taxa_freq[tmp_sample] = {'MISC':0.0}\n",
    "    path_freq[tmp_sample] = dict()\n",
    "    \n",
    "#taxa_list = ['MISC']\n",
    "path_list = []\n",
    "for line in f:\n",
    "    tmp_tokens = line.strip().split(\"\\t\")\n",
    "    tmp_path_name = tmp_tokens[0].replace(' ','_')\n",
    "    tmp_freq_list = [float(x) for x in tmp_tokens[1:-1]]\n",
    "    is_misc = 0\n",
    "    if max(tmp_freq_list) >= min_freq:\n",
    "        is_misc = 1\n",
    "        path_list.append(tmp_path_name)\n",
    "        \n",
    "    for i in range(0,sample_size):\n",
    "        tmp_sample = sample_list[i]\n",
    "        if is_misc > 0:        \n",
    "            path_freq[tmp_sample][tmp_path_name] = math.log10(tmp_freq_list[i])\n",
    "        #else:\n",
    "        #    taxa_freq[tmp_sample]['MISC'] = tmp_freq_list[i]\n",
    "f.close()\n",
    "\n",
    "sample_list = sorted(sample_list)\n",
    "print(\"TaxaName\\t%s\"%(\"\\t\".join([x.replace('Hyun201708','') for x in sample_list])))\n",
    "for tmp_p_name in sorted(path_list):\n",
    "    tmp_freq_list = [path_freq[tmp_s][tmp_p_name] for tmp_s in sample_list]\n",
    "    tmp_freq_str = \"\\t\".join(['%.2f'%x for x in tmp_freq_list ])\n",
    "    if max(tmp_freq_list) - min(tmp_freq_list) < 1:\n",
    "        continue\n",
    "    print(\"%s\\t%s\"%(tmp_p_name.split(';')[-1], tmp_freq_str))"
   ]
  },
  {
   "cell_type": "code",
   "execution_count": 31,
   "metadata": {},
   "outputs": [
    {
     "ename": "KeyError",
     "evalue": "'Hyun201708XENLASt45Body1'",
     "output_type": "error",
     "traceback": [
      "\u001b[1;31m---------------------------------------------------------------------------\u001b[0m",
      "\u001b[1;31mKeyError\u001b[0m                                  Traceback (most recent call last)",
      "\u001b[1;32m<ipython-input-31-77df24a5a374>\u001b[0m in \u001b[0;36m<module>\u001b[1;34m()\u001b[0m\n\u001b[0;32m     24\u001b[0m     \u001b[1;32mfor\u001b[0m \u001b[0mtmp_s\u001b[0m \u001b[1;32min\u001b[0m \u001b[0mrange\u001b[0m\u001b[1;33m(\u001b[0m\u001b[1;36m0\u001b[0m\u001b[1;33m,\u001b[0m\u001b[0mlen\u001b[0m\u001b[1;33m(\u001b[0m\u001b[0msample_list\u001b[0m\u001b[1;33m)\u001b[0m\u001b[1;33m)\u001b[0m\u001b[1;33m:\u001b[0m\u001b[1;33m\u001b[0m\u001b[0m\n\u001b[0;32m     25\u001b[0m         \u001b[0mtmp_sample_name\u001b[0m \u001b[1;33m=\u001b[0m \u001b[0msample_list\u001b[0m\u001b[1;33m[\u001b[0m\u001b[0mtmp_s\u001b[0m\u001b[1;33m]\u001b[0m\u001b[1;33m\u001b[0m\u001b[0m\n\u001b[1;32m---> 26\u001b[1;33m         \u001b[0mtmp_freq\u001b[0m \u001b[1;33m=\u001b[0m \u001b[0mpath_freq\u001b[0m\u001b[1;33m[\u001b[0m\u001b[0mtmp_sample_name\u001b[0m\u001b[1;33m]\u001b[0m\u001b[1;33m[\u001b[0m\u001b[0mtmp_path_name\u001b[0m\u001b[1;33m]\u001b[0m\u001b[1;33m\u001b[0m\u001b[0m\n\u001b[0m\u001b[0;32m     27\u001b[0m         \u001b[1;32mif\u001b[0m \u001b[0mbar_pos\u001b[0m \u001b[1;33m==\u001b[0m \u001b[1;36m0\u001b[0m\u001b[1;33m:\u001b[0m\u001b[1;33m\u001b[0m\u001b[0m\n\u001b[0;32m     28\u001b[0m             \u001b[0max1\u001b[0m\u001b[1;33m.\u001b[0m\u001b[0mbarh\u001b[0m\u001b[1;33m(\u001b[0m\u001b[0mbar_pos\u001b[0m\u001b[1;33m+\u001b[0m\u001b[1;36m0.4\u001b[0m\u001b[1;33m*\u001b[0m\u001b[0mtmp_s\u001b[0m\u001b[1;33m,\u001b[0m \u001b[0mtmp_freq\u001b[0m\u001b[1;33m,\u001b[0m \u001b[0mheight\u001b[0m\u001b[1;33m=\u001b[0m\u001b[1;36m0.4\u001b[0m\u001b[1;33m,\u001b[0m \u001b[0mlabel\u001b[0m\u001b[1;33m=\u001b[0m\u001b[0mtmp_sample_name\u001b[0m\u001b[1;33m,\u001b[0m \u001b[0mfacecolor\u001b[0m\u001b[1;33m=\u001b[0m\u001b[0mcolors\u001b[0m\u001b[1;33m[\u001b[0m\u001b[0mtmp_s\u001b[0m\u001b[1;33m]\u001b[0m\u001b[1;33m)\u001b[0m\u001b[1;33m\u001b[0m\u001b[0m\n",
      "\u001b[1;31mKeyError\u001b[0m: 'Hyun201708XENLASt45Body1'"
     ]
    },
    {
     "data": {
      "image/png": "[encoded data removed]",
      "text/plain": [
       "<matplotlib.figure.Figure at 0x1a1aa4928d0>"
      ]
     },
     "metadata": {},
     "output_type": "display_data"
    }
   ],
   "source": [
    "%matplotlib inline\n",
    "\n",
    "import math\n",
    "import matplotlib.pyplot as plt\n",
    "\n",
    "fig = plt.figure(figsize=(8,10))\n",
    "ax1 = fig.add_subplot(1,1,1)\n",
    "ax1.grid()\n",
    "\n",
    "#colors = ['orange','pink','darkblue','lightgreen']\n",
    "#sample_list = ['Hyun201708XENLAAdultDorsal1','Hyun201708XENLAAdultDorsal2','Hyun201708XENLAAdultVentral1','Hyun201708XENLAAdultVentral2']\n",
    "#sample_list = ['Hyun201708XENTRAdultDorsal1','Hyun201708XENTRAdultDorsal2','Hyun201708XENTRAdultVentral2']\n",
    "#sample_list = ['Hyun201708XENLAAdultDorsal1','Hyun201708XENLAAdultDorsal2','Hyun201708XENTRAdultDorsal1','Hyun201708XENTRAdultDorsal2']\n",
    "#sample_list = ['Hyun201708XENLAAdultVentral1','Hyun201708XENLAAdultVentral2','Hyun201708XENTRAdultVentral2']\n",
    "\n",
    "colors = ['orange','pink','darkblue','lightgreen']\n",
    "#sample_list = ['Hyun201708XENLASt41Gut1','Hyun201708XENLASt41Gut2','Hyun201708XENLASt45Gut2','Hyun201708XENLASt45Gut3']\n",
    "sample_list = ['Hyun201708XENLASt45Body1','Hyun201708XENLASt45Body2','Hyun201708XENLASt45Gut2','Hyun201708XENLASt45Gut3']\n",
    "#colors = ['lightblue','lightgreen','darkblue','darkgreen']\n",
    "#sample_list = ['Hyun201708XENLASt43Body1','Hyun201708XENLASt43Body2','Hyun201708XENLASt45Body1','Hyun201708XENLASt45Body2']\n",
    "\n",
    "bar_pos = 0\n",
    "for tmp_path_name in sorted(path_list):          \n",
    "    for tmp_s in range(0,len(sample_list)):\n",
    "        tmp_sample_name = sample_list[tmp_s]\n",
    "        tmp_freq = path_freq[tmp_sample_name][tmp_path_name]\n",
    "        if bar_pos == 0:\n",
    "            ax1.barh(bar_pos+0.4*tmp_s, tmp_freq, height=0.4, label=tmp_sample_name, facecolor=colors[tmp_s])\n",
    "            #ax1.barh(bar_pos+1.2, tmp_BHI1, height=0.3, label='GamakSite1BHI', facecolor='green')\n",
    "            #ax1.barh(bar_pos+1.5, tmp_BHI2, height=0.3, label='GamakSite2BHI', facecolor='lightgreen')\n",
    "        else:\n",
    "            ax1.barh(bar_pos+0.4*tmp_s, tmp_freq, height=0.4, facecolor=colors[tmp_s])\n",
    "    bar_pos += 2\n",
    "\n",
    "#ax1.legend(loc='lower right')\n",
    "ax1.set_yticks([x+1 for x in range(0,len(path_list)*2,2)])\n",
    "ax1.set_yticklabels(path_list)\n",
    "ax1.set_xlabel('Percentage')\n",
    "#ax1.set_xlim(0,1)\n",
    "plt.show()"
   ]
  },
  {
   "cell_type": "code",
   "execution_count": null,
   "metadata": {
    "collapsed": true
   },
   "outputs": [],
   "source": []
  }
 ],
 "metadata": {
  "kernelspec": {
   "display_name": "Python 3",
   "language": "python",
   "name": "python3"
  },
  "language_info": {
   "codemirror_mode": {
    "name": "ipython",
    "version": 3
   },
   "file_extension": ".py",
   "mimetype": "text/x-python",
   "name": "python",
   "nbconvert_exporter": "python",
   "pygments_lexer": "ipython3",
   "version": "3.6.2"
  }
 },
 "nbformat": 4,
 "nbformat_minor": 2
}
