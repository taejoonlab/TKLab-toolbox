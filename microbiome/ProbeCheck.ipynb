{
 "cells": [
  {
   "cell_type": "code",
   "execution_count": 29,
   "metadata": {},
   "outputs": [
    {
     "name": "stdout",
     "output_type": "stream",
     "text": [
      "Length:  20\n",
      "GC%: 0.65\n"
     ]
    }
   ],
   "source": [
    "def report_p(tmp_seq):\n",
    "    print(\"Length: \",len(tmp_seq))\n",
    "    print(\"GC%:\",len([x for x in tmp_seq if x=='G' or x=='C'])/len(tmp_seq))\n",
    "    \n",
    "          \n",
    "p_common1 = 'CTTGTACACACCGCCCGTCACACC'\n",
    "p_common2 = 'GGGTGAAGTCGTAACAAGG'\n",
    "p_common3 = 'CCCGCACAAGCGGTGGAGCATGTGGTTTAATTCG'\n",
    "p_common4 = 'CGTGCCAGCAGCCGCGGTAATACG'\n",
    "p_common5 = 'CTCCTACGGGAGGCAGCAGT'\n",
    "\n",
    "p_ecoli1 = 'GGTAGCTTAACCTTCGGGAGGGCGCTTACC'\n",
    "p_staau1 = 'GGGCAGCGAAACCGCGAGGTCAAGCAAATCCC'\n",
    "\n",
    "p_ecoli2 = 'GAAGCGACCTCGCGAGAGCAAGC'\n",
    "p_staau2 = 'GCAGCGAAACCGCGAGGTCAAGC'\n",
    "\n",
    "p_ecoli3 = 'GATGTGCCCAGATGGGATTAGC'\n",
    "p_staau3 = 'TGGATCCGCGCTGCATTAGC'\n",
    "\n",
    "p_ecoli4 = 'GGGAGTAAAGTTAATACCTTTGCTC'\n",
    "p_staau4 = 'GTAACTGTGCACATCTTGACGGTACC'\n",
    "\n",
    "report_p(p_common5)"
   ]
  },
  {
   "cell_type": "code",
   "execution_count": null,
   "metadata": {
    "collapsed": true
   },
   "outputs": [],
   "source": []
  }
 ],
 "metadata": {
  "kernelspec": {
   "display_name": "Python 3",
   "language": "python",
   "name": "python3"
  },
  "language_info": {
   "codemirror_mode": {
    "name": "ipython",
    "version": 3
   },
   "file_extension": ".py",
   "mimetype": "text/x-python",
   "name": "python",
   "nbconvert_exporter": "python",
   "pygments_lexer": "ipython3",
   "version": "3.6.2"
  }
 },
 "nbformat": 4,
 "nbformat_minor": 2
}
