{
 "cells": [
  {
   "cell_type": "code",
   "execution_count": null,
   "metadata": {},
   "outputs": [],
   "source": [
    "sessionInfo()"
   ]
  },
  {
   "cell_type": "code",
   "execution_count": null,
   "metadata": {},
   "outputs": [],
   "source": [
    "# Prepare tx2gene\n",
    "library(readr)\n",
    "\n",
    "filename_tx2gene <- 'XENLA_XB201901_tx_Annot.tx2gene'\n",
    "tx2gene <- read_tsv(filename_tx2gene, col_names=FALSE)\n",
    "head(tx2gene)"
   ]
  },
  {
   "cell_type": "code",
   "execution_count": null,
   "metadata": {},
   "outputs": [],
   "source": [
    "# Load quantification data\n",
    "library(tximport)\n",
    "library(limma)\n",
    "library(edgeR)\n",
    "\n",
    "# Uncomment and change the filename below\n",
    "#filename_tbl <- 'KimHY202001n_XENLAtx.conf'\n",
    "file.exists(filename_tbl)\n",
    "\n",
    "samples <- read.table(filename_tbl, header=TRUE)\n",
    "files <- trimws(samples$Filename)\n",
    "names(files) <- samples$SampleName\n",
    "files\n",
    "all(file.exists(files))\n",
    "\n",
    "txi <- tximport(files, type = \"salmon\", tx2gene = tx2gene, countsFromAbundance = \"lengthScaledTPM\")\n",
    "y <- DGEList(txi$counts)\n",
    "# filtering\n",
    "keep <- filterByExpr(y)\n",
    "y <- y[keep, ]"
   ]
  },
  {
   "cell_type": "code",
   "execution_count": null,
   "metadata": {},
   "outputs": [],
   "source": [
    "# Boxplot and hierarchical clustering with raw data\n",
    "options(repr.plot.width=12, repr.plot.height=6)\n",
    "\n",
    "boxplot(log(txi$abundance+0.001, base=2), las=2)\n",
    "dist_corr <- dist(1-cor(as.matrix(txi$abundance), method='spearman'))\n",
    "plot(hclust(dist_corr))"
   ]
  },
  {
   "cell_type": "code",
   "execution_count": null,
   "metadata": {},
   "outputs": [],
   "source": [
    "# Boxplot and hierarchical clustering with filtered data\n",
    "options(repr.plot.width=12, repr.plot.height=6)\n",
    "\n",
    "boxplot(log(as.matrix(y)+0.001, base=2), las=2, outline=FALSE)\n",
    "dist_corr <- dist(1-cor(as.matrix(y), method='spearman'))\n",
    "plot(hclust(dist_corr))"
   ]
  },
  {
   "cell_type": "code",
   "execution_count": null,
   "metadata": {},
   "outputs": [],
   "source": [
    "# Pair plot\n",
    "library(ggplot2)\n",
    "\n",
    "#pairs(txi$abundance+0.001, log=\"xy\")\n",
    "#install.packages(\"psych\")\n",
    "library(psych)\n",
    "pairs.panels(log(txi$abundance+0.001),\n",
    "             method = \"spearman\", # correlation method\n",
    "             hist.col = \"#00AFBB\",\n",
    "             density = TRUE,  # show density plots\n",
    "             ellipses = TRUE # show correlation ellipses\n",
    "             )"
   ]
  },
  {
   "cell_type": "code",
   "execution_count": null,
   "metadata": {},
   "outputs": [],
   "source": [
    "# Perform voom\n",
    "sampleTable <- data.frame(condition = factor(rep(c(\"A\", \"B\"), each = 3)))\n",
    "rownames(sampleTable) <- colnames(txi$counts)\n",
    "\n",
    "y <- calcNormFactors(y)\n",
    "design <- model.matrix(~condition, data = sampleTable)\n",
    "v <- voom(y, design)"
   ]
  }
 ],
 "metadata": {
  "kernelspec": {
   "display_name": "R",
   "language": "R",
   "name": "ir"
  },
  "language_info": {
   "codemirror_mode": "r",
   "file_extension": ".r",
   "mimetype": "text/x-r-source",
   "name": "R",
   "pygments_lexer": "r",
   "version": "3.6.1"
  }
 },
 "nbformat": 4,
 "nbformat_minor": 2
}
